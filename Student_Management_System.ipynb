{
 "cells": [
  {
   "cell_type": "code",
   "execution_count": null,
   "id": "de54e3b7-be94-49c2-8188-2b2355a154bf",
   "metadata": {},
   "outputs": [
    {
     "name": "stdout",
     "output_type": "stream",
     "text": [
      "\n",
      "--- Student Management System ---\n",
      "1. Add Student\n",
      "2. Search Student\n",
      "3. Update Student\n",
      "4. Delete Student\n",
      "5. Display All Students\n",
      "6. Exit\n"
     ]
    },
    {
     "name": "stdin",
     "output_type": "stream",
     "text": [
      "Enter Choice:  1\n",
      "Enter Roll number:  101\n"
     ]
    },
    {
     "name": "stdout",
     "output_type": "stream",
     "text": [
      "Roll Number already exists!\n",
      "\n",
      "--- Student Management System ---\n",
      "1. Add Student\n",
      "2. Search Student\n",
      "3. Update Student\n",
      "4. Delete Student\n",
      "5. Display All Students\n",
      "6. Exit\n"
     ]
    },
    {
     "name": "stdin",
     "output_type": "stream",
     "text": [
      "Enter Choice:  nikita\n"
     ]
    },
    {
     "name": "stdout",
     "output_type": "stream",
     "text": [
      "Invalid Choice. Please try again.\n",
      "\n",
      "--- Student Management System ---\n",
      "1. Add Student\n",
      "2. Search Student\n",
      "3. Update Student\n",
      "4. Delete Student\n",
      "5. Display All Students\n",
      "6. Exit\n"
     ]
    },
    {
     "name": "stdin",
     "output_type": "stream",
     "text": [
      "Enter Choice:  3\n",
      "Enter roll number to update:  103\n"
     ]
    },
    {
     "name": "stdout",
     "output_type": "stream",
     "text": [
      "Student not found.\n",
      "\n",
      "--- Student Management System ---\n",
      "1. Add Student\n",
      "2. Search Student\n",
      "3. Update Student\n",
      "4. Delete Student\n",
      "5. Display All Students\n",
      "6. Exit\n"
     ]
    },
    {
     "name": "stdin",
     "output_type": "stream",
     "text": [
      "Enter Choice:  2\n",
      "Enter roll number to search:  101\n"
     ]
    },
    {
     "name": "stdout",
     "output_type": "stream",
     "text": [
      "Name: nikita, Marks: 85\n",
      "\n",
      "--- Student Management System ---\n",
      "1. Add Student\n",
      "2. Search Student\n",
      "3. Update Student\n",
      "4. Delete Student\n",
      "5. Display All Students\n",
      "6. Exit\n"
     ]
    },
    {
     "name": "stdin",
     "output_type": "stream",
     "text": [
      "Enter Choice:  5\n"
     ]
    },
    {
     "name": "stdout",
     "output_type": "stream",
     "text": [
      "Roll: 101, Name: nikita, Marks: 85\n",
      "\n",
      "--- Student Management System ---\n",
      "1. Add Student\n",
      "2. Search Student\n",
      "3. Update Student\n",
      "4. Delete Student\n",
      "5. Display All Students\n",
      "6. Exit\n"
     ]
    }
   ],
   "source": [
    "import json\n",
    "\n",
    "FILENAME = \"students.json\"\n",
    "\n",
    "def load_data():\n",
    "    try:\n",
    "        with open(FILENAME, \"r\") as f:\n",
    "            return json.load(f)\n",
    "    except:\n",
    "        return {}\n",
    "\n",
    "def save_data(students):\n",
    "    with open(FILENAME, \"w\") as f:\n",
    "        json.dump(students, f)\n",
    "\n",
    "def add_student(students):\n",
    "    roll = input(\"Enter Roll number: \")\n",
    "    if roll in students:\n",
    "        print(\"Roll Number already exists!\")\n",
    "        return\n",
    "    name = input(\"Enter Name: \")\n",
    "    marks = int(input(\"Enter Marks: \"))\n",
    "    students[roll] = {\"name\": name, \"marks\": marks}\n",
    "    save_data(students)\n",
    "    print(\"Student added successfully.\")\n",
    "\n",
    "def search_student(students):\n",
    "    roll = input(\"Enter roll number to search: \")\n",
    "    if roll in students:\n",
    "        print(f\"Name: {students[roll]['name']}, Marks: {students[roll]['marks']}\")\n",
    "    else:\n",
    "        print(\"Student not found.\")\n",
    "\n",
    "def update_student(students):\n",
    "    roll = input(\"Enter roll number to update: \")\n",
    "    if roll in students:\n",
    "        name = input(\"Enter new name: \")\n",
    "        marks = int(input(\"Enter new marks: \"))\n",
    "        students[roll] = {\"name\": name, \"marks\": marks}\n",
    "        save_data(students)\n",
    "        print(\"Student updated successfully.\")\n",
    "    else:\n",
    "        print(\"Student not found.\")\n",
    "\n",
    "def delete_student(students):\n",
    "    roll = input(\"Enter Roll Number to delete: \")\n",
    "    if roll in students:\n",
    "        del students[roll]\n",
    "        save_data(students)\n",
    "        print(\"Student deleted successfully.\")\n",
    "    else:\n",
    "        print(\"Student not found.\")\n",
    "\n",
    "def display_students(students):\n",
    "    if not students:\n",
    "        print(\"No students available.\")\n",
    "    else:\n",
    "        for roll, details in students.items():\n",
    "            print(f\"Roll: {roll}, Name: {details['name']}, Marks: {details['marks']}\")\n",
    "\n",
    "def main():\n",
    "    students = load_data()\n",
    "    while True:\n",
    "        print(\"\\n--- Student Management System ---\")\n",
    "        print(\"1. Add Student\")\n",
    "        print(\"2. Search Student\")\n",
    "        print(\"3. Update Student\")\n",
    "        print(\"4. Delete Student\")\n",
    "        print(\"5. Display All Students\")\n",
    "        print(\"6. Exit\")\n",
    "\n",
    "        choice = input(\"Enter Choice: \")\n",
    "\n",
    "        if choice == \"1\":\n",
    "            add_student(students)\n",
    "        elif choice == \"2\":\n",
    "            search_student(students)\n",
    "        elif choice == \"3\":\n",
    "            update_student(students)\n",
    "        elif choice == \"4\":\n",
    "            delete_student(students)\n",
    "        elif choice == \"5\":\n",
    "            display_students(students)\n",
    "        elif choice == \"6\":\n",
    "            print(\"Exiting... Goodbye!\")\n",
    "            break\n",
    "        else:\n",
    "            print(\"Invalid Choice. Please try again.\")\n",
    "\n",
    "if __name__ == \"__main__\":\n",
    "    main()\n"
   ]
  }
 ],
 "metadata": {
  "kernelspec": {
   "display_name": "Python [conda env:base] *",
   "language": "python",
   "name": "conda-base-py"
  },
  "language_info": {
   "codemirror_mode": {
    "name": "ipython",
    "version": 3
   },
   "file_extension": ".py",
   "mimetype": "text/x-python",
   "name": "python",
   "nbconvert_exporter": "python",
   "pygments_lexer": "ipython3",
   "version": "3.12.7"
  }
 },
 "nbformat": 4,
 "nbformat_minor": 5
}
