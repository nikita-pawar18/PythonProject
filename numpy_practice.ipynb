{
 "cells": [
  {
   "cell_type": "code",
   "execution_count": null,
   "id": "322c008b-9006-4429-bb2a-66c29953289c",
   "metadata": {},
   "outputs": [],
   "source": [
    "ARRAY"
   ]
  },
  {
   "cell_type": "code",
   "execution_count": 13,
   "id": "d4a77f65-28ab-4111-829e-05045e33d980",
   "metadata": {},
   "outputs": [
    {
     "name": "stdout",
     "output_type": "stream",
     "text": [
      "[1 2 3 4]\n",
      "<class 'numpy.ndarray'>\n",
      "1\n"
     ]
    }
   ],
   "source": [
    "import numpy as np\n",
    "x=[1,2,3,4]\n",
    "\n",
    "y=np.array([1,2,3,4])\n",
    "print(y)\n",
    "print(type(y))\n",
    "print(y.ndim)"
   ]
  },
  {
   "cell_type": "code",
   "execution_count": 11,
   "id": "d7cb5667-b9c0-4f5b-8151-bf0f55e4e0dd",
   "metadata": {},
   "outputs": [
    {
     "name": "stdin",
     "output_type": "stream",
     "text": [
      "enter =  12\n",
      "enter =  13\n",
      "enter =  45\n",
      "enter =  556\n"
     ]
    },
    {
     "name": "stdout",
     "output_type": "stream",
     "text": [
      "[ 12  13  45 556]\n"
     ]
    }
   ],
   "source": [
    "l = [] \n",
    "for i in range(1,5):\n",
    "    int_1 = int(input(\"enter = \"))\n",
    "    l.append(int_1)\n",
    "print(np.array(l))"
   ]
  },
  {
   "cell_type": "code",
   "execution_count": 21,
   "id": "eb6ea5a3-7dba-4cc2-9e97-0543add193ea",
   "metadata": {},
   "outputs": [
    {
     "name": "stdout",
     "output_type": "stream",
     "text": [
      "[[1 2 3 4]\n",
      " [1 6 7 8]]\n",
      "2\n"
     ]
    }
   ],
   "source": [
    "ar2 = np.array([[1,2,3,4],[1,6,7,8]])\n",
    "print(ar2)\n",
    "print(ar2.ndim)"
   ]
  },
  {
   "cell_type": "code",
   "execution_count": 23,
   "id": "48889950-1b70-489e-9dde-47ba5059adff",
   "metadata": {},
   "outputs": [
    {
     "name": "stdout",
     "output_type": "stream",
     "text": [
      "[[1 2 3 4]\n",
      " [4 5 6 7]\n",
      " [6 8 9 4]]\n",
      "2\n"
     ]
    }
   ],
   "source": [
    "ar3 = np.array([[1,2,3,4],[4,5,6,7],[6,8,9,4]])\n",
    "print(ar3)\n",
    "print(ar3.ndim)"
   ]
  },
  {
   "cell_type": "code",
   "execution_count": 37,
   "id": "a88f729b-0a1a-4f86-a337-419a34f6e56e",
   "metadata": {},
   "outputs": [],
   "source": [
    "#zeros array"
   ]
  },
  {
   "cell_type": "code",
   "execution_count": 47,
   "id": "2fe5f68f-59d9-4f86-a112-26faf7498dbd",
   "metadata": {},
   "outputs": [
    {
     "name": "stdout",
     "output_type": "stream",
     "text": [
      "[0. 0. 0. 0.]\n",
      "\n",
      "[[0. 0. 0. 0.]\n",
      " [0. 0. 0. 0.]\n",
      " [0. 0. 0. 0.]]\n"
     ]
    }
   ],
   "source": [
    "import numpy as np\n",
    "ar_zero = np.zeros(4)\n",
    "ar_zero1 = np.zeros((3,4))\n",
    "print(ar_zero)\n",
    "print()\n",
    "print(ar_zero1)\n",
    "\n"
   ]
  },
  {
   "cell_type": "code",
   "execution_count": 49,
   "id": "3ace017c-c60e-45e1-a0bd-5c52a908cb7c",
   "metadata": {},
   "outputs": [],
   "source": [
    "#ones array"
   ]
  },
  {
   "cell_type": "code",
   "execution_count": 59,
   "id": "75f65adb-79b3-490d-b333-45113e00578a",
   "metadata": {},
   "outputs": [
    {
     "name": "stdout",
     "output_type": "stream",
     "text": [
      "[1. 1. 1. 1.]\n",
      "[[1. 1. 1. 1.]\n",
      " [1. 1. 1. 1.]\n",
      " [1. 1. 1. 1.]]\n"
     ]
    }
   ],
   "source": [
    "ar_one = np.ones(4)\n",
    "ar_one1 = np.ones((3,4))\n",
    "print(ar_one)\n",
    "print(ar_one1)"
   ]
  },
  {
   "cell_type": "code",
   "execution_count": 65,
   "id": "a36b1daf-1c15-46a0-8dba-4d5456b60fed",
   "metadata": {},
   "outputs": [
    {
     "name": "stdout",
     "output_type": "stream",
     "text": [
      "[1. 1. 1. 1.]\n",
      "[[1. 1. 1. 1.]\n",
      " [1. 1. 1. 1.]\n",
      " [1. 1. 1. 1.]]\n"
     ]
    }
   ],
   "source": [
    "#empty array\n",
    "ar_em = np.empty(4)\n",
    "ar_em1 = np.empty((3,4))\n",
    "print(ar_em)\n",
    "print(ar_em1)"
   ]
  },
  {
   "cell_type": "code",
   "execution_count": 73,
   "id": "a5948aa2-df00-4fc1-85c3-0e97c8c33e04",
   "metadata": {},
   "outputs": [
    {
     "name": "stdout",
     "output_type": "stream",
     "text": [
      "[0 1 2 3]\n"
     ]
    }
   ],
   "source": [
    "#range\n",
    "import numpy as np\n",
    "ar_rn = np.arange(4)\n",
    "print(ar_rn)"
   ]
  },
  {
   "cell_type": "code",
   "execution_count": 75,
   "id": "758eb033-2e15-485b-bfc1-910f52e95807",
   "metadata": {},
   "outputs": [],
   "source": [
    "#Diagonal"
   ]
  },
  {
   "cell_type": "code",
   "execution_count": 83,
   "id": "1c8bffed-d6bf-4a1a-a9d2-d95380451f6a",
   "metadata": {},
   "outputs": [
    {
     "name": "stdout",
     "output_type": "stream",
     "text": [
      "[[1. 0. 0. 0.]\n",
      " [0. 1. 0. 0.]\n",
      " [0. 0. 1. 0.]\n",
      " [0. 0. 0. 1.]]\n",
      "\n",
      "[[1. 0. 0. 0. 0.]\n",
      " [0. 1. 0. 0. 0.]\n",
      " [0. 0. 1. 0. 0.]]\n"
     ]
    }
   ],
   "source": [
    "ar_dia = np.eye(4)\n",
    "ar_dia1 = np.eye(3,5)\n",
    "print(ar_dia)\n",
    "print()\n",
    "print(ar_dia1)"
   ]
  },
  {
   "cell_type": "code",
   "execution_count": 87,
   "id": "034ce640-2482-40cd-ac1d-a6050ac023f6",
   "metadata": {},
   "outputs": [],
   "source": [
    "#linspace"
   ]
  },
  {
   "cell_type": "code",
   "execution_count": 85,
   "id": "f5e4515b-2318-468a-8a03-20ac56081bea",
   "metadata": {},
   "outputs": [
    {
     "name": "stdout",
     "output_type": "stream",
     "text": [
      "[ 1.    3.25  5.5   7.75 10.  ]\n"
     ]
    }
   ],
   "source": [
    "ar_lin = np.linspace(1,10,num=5)\n",
    "print(ar_lin)"
   ]
  },
  {
   "cell_type": "code",
   "execution_count": 89,
   "id": "119560d1-3cdb-41a5-80d7-2c4cfb4f9d34",
   "metadata": {},
   "outputs": [
    {
     "name": "stdout",
     "output_type": "stream",
     "text": [
      "[ 0.  5. 10. 15. 20.]\n"
     ]
    }
   ],
   "source": [
    "ar_lin = np.linspace(0,20,num=5)\n",
    "print(ar_lin)"
   ]
  },
  {
   "cell_type": "code",
   "execution_count": 93,
   "id": "e40e1f19-f990-4844-9995-70a858bd08a8",
   "metadata": {},
   "outputs": [],
   "source": [
    "#Random Variable"
   ]
  },
  {
   "cell_type": "code",
   "execution_count": 95,
   "id": "74c4960f-8827-495b-b4eb-a909c7b02d56",
   "metadata": {},
   "outputs": [
    {
     "name": "stdout",
     "output_type": "stream",
     "text": [
      "[0.41121824 0.72660469 0.80231243 0.5327418 ]\n"
     ]
    }
   ],
   "source": [
    "import numpy as np\n",
    "var = np.random.rand(4)\n",
    "print(var)"
   ]
  },
  {
   "cell_type": "code",
   "execution_count": 97,
   "id": "0c281a55-646f-40bb-b55a-52a73dd00dcf",
   "metadata": {},
   "outputs": [
    {
     "name": "stdout",
     "output_type": "stream",
     "text": [
      "[[0.11413447 0.0623402  0.49804431 0.86523505]\n",
      " [0.75462775 0.96499122 0.96333986 0.48124596]\n",
      " [0.23181546 0.64598181 0.09230556 0.12175986]]\n"
     ]
    }
   ],
   "source": [
    "var1 = np.random.rand(3,4)\n",
    "print(var1)"
   ]
  },
  {
   "cell_type": "code",
   "execution_count": 99,
   "id": "e6bf48a5-ef5d-4b51-a8e8-3c6bc871c617",
   "metadata": {},
   "outputs": [
    {
     "name": "stdout",
     "output_type": "stream",
     "text": [
      "[-0.20979294 -0.49066791 -0.80654241  0.07358662]\n"
     ]
    }
   ],
   "source": [
    "var2 = np.random.randn(4)\n",
    "print(var2)"
   ]
  },
  {
   "cell_type": "code",
   "execution_count": 101,
   "id": "b381988f-37be-48ed-9697-84d6a8357384",
   "metadata": {},
   "outputs": [
    {
     "name": "stdout",
     "output_type": "stream",
     "text": [
      "[0.47519378 0.29728027 0.05464395 0.24634723]\n"
     ]
    }
   ],
   "source": [
    "var3 = np.random.ranf(4)\n",
    "print(var3)"
   ]
  },
  {
   "cell_type": "code",
   "execution_count": 103,
   "id": "50538510-c667-4981-8953-5c08e2db6b43",
   "metadata": {},
   "outputs": [
    {
     "name": "stdout",
     "output_type": "stream",
     "text": [
      "[19 11  5 13 12]\n"
     ]
    }
   ],
   "source": [
    "var4 = np.random.randint(4,20,5)\n",
    "print(var4)"
   ]
  },
  {
   "cell_type": "markdown",
   "id": "39aea008-31f0-4fa6-bbb9-5261ea63b6ba",
   "metadata": {},
   "source": [
    "#DATATYPE"
   ]
  },
  {
   "cell_type": "code",
   "execution_count": 106,
   "id": "2f8789a3-a0cb-4d45-bf53-c655cee22e48",
   "metadata": {},
   "outputs": [
    {
     "name": "stdout",
     "output_type": "stream",
     "text": [
      "Data Type:  int32\n"
     ]
    }
   ],
   "source": [
    "import numpy as np\n",
    "var=np.array([12,34,1,2,34,455,54,32,11,23,45,56])\n",
    "print(\"Data Type: \",var.dtype)"
   ]
  },
  {
   "cell_type": "code",
   "execution_count": 108,
   "id": "65da9c03-809a-4d52-bfd4-25e6527834db",
   "metadata": {},
   "outputs": [
    {
     "name": "stdout",
     "output_type": "stream",
     "text": [
      "Data Type:  float64\n"
     ]
    }
   ],
   "source": [
    "var1 = np.array([1.0,1.2,4.5,6.0,7.8,6.9])\n",
    "print(\"Data Type: \", var1.dtype)"
   ]
  },
  {
   "cell_type": "code",
   "execution_count": 114,
   "id": "6e12691b-bd05-40da-aa0d-4ddd1e8db4df",
   "metadata": {},
   "outputs": [
    {
     "name": "stdout",
     "output_type": "stream",
     "text": [
      "Data Type:  int8\n"
     ]
    }
   ],
   "source": [
    "x = np.array([1,2,3,4],dtype =  np.int8)\n",
    "print(\"Data Type: \",x.dtype)"
   ]
  },
  {
   "cell_type": "code",
   "execution_count": 116,
   "id": "c5a50408-0684-4c5b-8c02-c18302d2da28",
   "metadata": {},
   "outputs": [
    {
     "name": "stdout",
     "output_type": "stream",
     "text": [
      "Data Type:  int32\n",
      "Data Type:  float32\n",
      "Data Type:  int32\n",
      "[1 2 3 4]\n",
      "[1. 2. 3. 4.]\n",
      "[1 2 3 4]\n"
     ]
    }
   ],
   "source": [
    "x2 = np.array([1,2,3,4])\n",
    "new = np.float32(x2)\n",
    "new_one = np.int_(new)\n",
    "print(\"Data Type: \",x2.dtype)\n",
    "print(\"Data Type: \",new.dtype)\n",
    "print(\"Data Type: \",new_one.dtype)\n",
    "\n",
    "print(x2)\n",
    "print(new)\n",
    "print(new_one)"
   ]
  },
  {
   "cell_type": "markdown",
   "id": "cc4b76a6-20c6-4274-947b-8d0fabd49e6e",
   "metadata": {},
   "source": [
    "#Arithmetic Operations"
   ]
  },
  {
   "cell_type": "code",
   "execution_count": 119,
   "id": "269bff75-4900-4c0a-b330-8ff96fce5703",
   "metadata": {},
   "outputs": [
    {
     "name": "stdout",
     "output_type": "stream",
     "text": [
      "[4 5 6 7]\n"
     ]
    }
   ],
   "source": [
    "import numpy as np\n",
    "var = np.array([1,2,3,4])\n",
    "varadd = var+3\n",
    "print(varadd)"
   ]
  },
  {
   "cell_type": "code",
   "execution_count": 121,
   "id": "036a942c-7275-427e-aee8-cb5b0f713dc3",
   "metadata": {},
   "outputs": [
    {
     "name": "stdout",
     "output_type": "stream",
     "text": [
      "[ 6  8 10 12]\n"
     ]
    }
   ],
   "source": [
    "var1 = np.array([1,2,3,4])\n",
    "var2 = np.array([5,6,7,8])\n",
    "varadd = var1+var2\n",
    "print(varadd)"
   ]
  },
  {
   "cell_type": "code",
   "execution_count": 123,
   "id": "5ec42c30-d9c1-48c9-8a61-31d15583ac85",
   "metadata": {},
   "outputs": [
    {
     "name": "stdout",
     "output_type": "stream",
     "text": [
      "[-2 -1  0  1]\n"
     ]
    }
   ],
   "source": [
    "var = np.array([1,2,3,4])\n",
    "varsub = var-3\n",
    "print(varsub)"
   ]
  },
  {
   "cell_type": "code",
   "execution_count": 125,
   "id": "386f8a09-0336-4f5d-9a59-d2026d3b0e7a",
   "metadata": {},
   "outputs": [
    {
     "name": "stdout",
     "output_type": "stream",
     "text": [
      "[16 -4 -4 -4]\n"
     ]
    }
   ],
   "source": [
    "var3 = np.array([6,7,8,9])\n",
    "var4 = np.array([22,3,4,5])\n",
    "varsub =var4-var3\n",
    "print(varsub)"
   ]
  },
  {
   "cell_type": "code",
   "execution_count": 127,
   "id": "0d962722-73d9-43db-8f15-924edc7ae9d1",
   "metadata": {},
   "outputs": [
    {
     "name": "stdout",
     "output_type": "stream",
     "text": [
      "[ 3  6  9 12]\n"
     ]
    }
   ],
   "source": [
    "var = np.array([1,2,3,4])\n",
    "varadd = var*3\n",
    "print(varadd)"
   ]
  },
  {
   "cell_type": "code",
   "execution_count": 129,
   "id": "3ca3c512-e502-42f6-bb7c-75505d2611c1",
   "metadata": {},
   "outputs": [
    {
     "name": "stdout",
     "output_type": "stream",
     "text": [
      "[1 0 0 0]\n"
     ]
    }
   ],
   "source": [
    "var = np.array([1,2,3,4])\n",
    "varadd = np.reciprocal(var)\n",
    "print(varadd)"
   ]
  },
  {
   "cell_type": "markdown",
   "id": "321534ca-3983-4554-83a2-47100f3fc4ff",
   "metadata": {},
   "source": [
    "#Arithmetic functions"
   ]
  },
  {
   "cell_type": "code",
   "execution_count": 20,
   "id": "22917a7e-43e1-48c7-8f8f-ef3609c5de44",
   "metadata": {},
   "outputs": [
    {
     "name": "stdout",
     "output_type": "stream",
     "text": [
      "min : 0 7\n",
      "max : 9 6\n",
      "sqrt : [1.         2.         2.64575131 2.82842712 1.73205081 2.\n",
      " 3.         0.        ]\n"
     ]
    }
   ],
   "source": [
    "import numpy as np\n",
    "\n",
    "var = np.array([1,4,7,8,3,4,9,0])\n",
    "print(\"min :\",np.min(var),np.argmin(var))\n",
    "print(\"max :\",np.max(var),np.argmax(var))\n",
    "print(\"sqrt :\",np.sqrt(var))"
   ]
  },
  {
   "cell_type": "code",
   "execution_count": 18,
   "id": "5bf1809f-ed54-4c71-a883-c5c086e5b3b2",
   "metadata": {},
   "outputs": [
    {
     "name": "stdout",
     "output_type": "stream",
     "text": [
      "[2 1 3]\n"
     ]
    }
   ],
   "source": [
    "var1 = np.array([[2,1,3],[9,5,6]])\n",
    "print(np.min(var1,axis=0))"
   ]
  },
  {
   "cell_type": "code",
   "execution_count": 26,
   "id": "c8208497-4eb7-4a97-bb74-0c7973685c94",
   "metadata": {},
   "outputs": [
    {
     "name": "stdout",
     "output_type": "stream",
     "text": [
      "[0.84147098 0.90929743 0.14112001]\n",
      "[ 0.54030231 -0.41614684 -0.9899925 ]\n"
     ]
    }
   ],
   "source": [
    "var2 = np.array([1,2,3])\n",
    "print(np.sin(var2))\n",
    "print(np.cos(var2))"
   ]
  },
  {
   "cell_type": "code",
   "execution_count": 28,
   "id": "308d57bf-a5d5-4ca7-91bf-2f9b65987013",
   "metadata": {},
   "outputs": [
    {
     "name": "stdout",
     "output_type": "stream",
     "text": [
      "[0.0000000e+00 1.0000000e+00 1.2246468e-16]\n"
     ]
    }
   ],
   "source": [
    "import numpy as np\n",
    "\n",
    "angles = np.array([0, np.pi/2, np.pi])\n",
    "print(np.sin(angles))\n"
   ]
  },
  {
   "cell_type": "markdown",
   "id": "60aae8b5-1f5b-4469-b080-ee9ddc8de4c5",
   "metadata": {},
   "source": [
    "#shape"
   ]
  },
  {
   "cell_type": "code",
   "execution_count": 31,
   "id": "fa76b254-62c7-4538-8eb6-c12e8598b132",
   "metadata": {},
   "outputs": [
    {
     "name": "stdout",
     "output_type": "stream",
     "text": [
      "[[1 2]\n",
      " [1 2]]\n",
      "\n",
      "(2, 2)\n"
     ]
    }
   ],
   "source": [
    "import numpy as np \n",
    "var = np.array([[1,2],[1,2]])\n",
    "print(var)\n",
    "print()\n",
    "print(var.shape)"
   ]
  },
  {
   "cell_type": "code",
   "execution_count": 33,
   "id": "06609799-a403-481f-9d4f-e037f1a92e25",
   "metadata": {},
   "outputs": [
    {
     "name": "stdout",
     "output_type": "stream",
     "text": [
      "[[1 2 3 4]\n",
      " [1 2 3 4]]\n",
      "\n",
      "(2, 4)\n"
     ]
    }
   ],
   "source": [
    "var = np.array([[1,2,3,4],[1,2,3,4]])\n",
    "print(var)\n",
    "print()\n",
    "print(var.shape)"
   ]
  },
  {
   "cell_type": "code",
   "execution_count": 49,
   "id": "c1b06639-bc01-4650-a12e-57e55d1317ed",
   "metadata": {},
   "outputs": [
    {
     "name": "stdout",
     "output_type": "stream",
     "text": [
      "[[[[1 2 3 4]]]]\n",
      "4\n",
      "\n",
      "(1, 1, 1, 4)\n"
     ]
    }
   ],
   "source": [
    "var1 = np.array([1,2,3,4], ndmin=4)\n",
    "print(var1)\n",
    "print(var1.ndim)\n",
    "print()\n",
    "print(var1.shape)"
   ]
  },
  {
   "cell_type": "markdown",
   "id": "7b13e84a-6417-43ff-9eca-383aa064c10e",
   "metadata": {},
   "source": [
    "#reshape"
   ]
  },
  {
   "cell_type": "code",
   "execution_count": 64,
   "id": "32d91452-cd1b-4aa0-9659-ec80aee8336d",
   "metadata": {},
   "outputs": [
    {
     "name": "stdout",
     "output_type": "stream",
     "text": [
      "[1 2 3 4 5 6]\n",
      "1\n",
      "\n",
      "[[1 2]\n",
      " [3 4]\n",
      " [5 6]]\n",
      "2\n"
     ]
    }
   ],
   "source": [
    "var2 = np.array([1,2,3,4,5,6])\n",
    "print(var2)\n",
    "print(var2.ndim)\n",
    "print()\n",
    "\n",
    "x = var2.reshape(3,2)\n",
    "print(x)\n",
    "print(x.ndim)"
   ]
  },
  {
   "cell_type": "code",
   "execution_count": 70,
   "id": "9c94b96c-aaaf-48f9-8518-c269189d17e0",
   "metadata": {},
   "outputs": [
    {
     "name": "stdout",
     "output_type": "stream",
     "text": [
      "[ 1  2  3  4  5  6  7  8  9 10 11 12]\n",
      "1\n",
      "\n",
      "[[[ 1  2]\n",
      "  [ 3  4]\n",
      "  [ 5  6]]\n",
      "\n",
      " [[ 7  8]\n",
      "  [ 9 10]\n",
      "  [11 12]]]\n",
      "3\n",
      "\n",
      "[ 1  2  3  4  5  6  7  8  9 10 11 12]\n",
      "1\n"
     ]
    }
   ],
   "source": [
    "var3 = np.array([1,2,3,4,5,6,7,8,9,10,11,12])\n",
    "print(var3)\n",
    "print(var3.ndim)\n",
    "print()\n",
    "\n",
    "x = var3.reshape(2,3,2)\n",
    "print(x)\n",
    "print(x.ndim)\n",
    "print()\n",
    "\n",
    "one = x.reshape(-1)\n",
    "print(one)\n",
    "print(one.ndim)"
   ]
  },
  {
   "cell_type": "markdown",
   "id": "e16583c4-6832-4856-b66b-f23c451c1412",
   "metadata": {},
   "source": [
    "#BROADCASTING"
   ]
  },
  {
   "cell_type": "code",
   "execution_count": 75,
   "id": "a57f74ab-5ddb-47af-b267-9ce9b8cf301f",
   "metadata": {},
   "outputs": [
    {
     "name": "stdout",
     "output_type": "stream",
     "text": [
      "(3,)\n",
      "[[1]\n",
      " [2]\n",
      " [3]]\n",
      "[[2 3 4]\n",
      " [3 4 5]\n",
      " [4 5 6]]\n"
     ]
    }
   ],
   "source": [
    "var1 = np.array([1,2,3])\n",
    "print(var1.shape)\n",
    "\n",
    "var2 = np.array([[1],[2],[3]])\n",
    "print(var2)\n",
    "\n",
    "\n",
    "print(var1 + var2)"
   ]
  },
  {
   "cell_type": "code",
   "execution_count": 83,
   "id": "0797686c-aec5-457a-af96-d10025002f22",
   "metadata": {},
   "outputs": [
    {
     "name": "stdout",
     "output_type": "stream",
     "text": [
      "(2, 1)\n",
      "(2, 3)\n",
      "[[2 3 4]\n",
      " [3 4 5]]\n"
     ]
    }
   ],
   "source": [
    "x = np.array([[1],[2]])\n",
    "print(x.shape)\n",
    "\n",
    "\n",
    "y = np.array([[1,2,3],[1,2,3]])\n",
    "print(y.shape)\n",
    "\n",
    "print(x+y)\n"
   ]
  },
  {
   "cell_type": "markdown",
   "id": "27e6fe46-3a43-49c3-8eec-cd8f5c1a6822",
   "metadata": {},
   "source": [
    "#Indexing"
   ]
  },
  {
   "cell_type": "code",
   "execution_count": 5,
   "id": "c36a217e-1631-4f0e-ae00-10e6e086ae58",
   "metadata": {},
   "outputs": [
    {
     "name": "stdout",
     "output_type": "stream",
     "text": [
      "8\n",
      "8\n"
     ]
    }
   ],
   "source": [
    "import numpy as np\n",
    "var = np.array([9,8,7,6])\n",
    "\n",
    "print(var[1])\n",
    "print(var[-3])"
   ]
  },
  {
   "cell_type": "code",
   "execution_count": 7,
   "id": "98ff5358-1f75-4cb5-962c-a6827402479f",
   "metadata": {},
   "outputs": [
    {
     "name": "stdout",
     "output_type": "stream",
     "text": [
      "[[9 8 7]\n",
      " [4 5 6]]\n",
      "2\n",
      "\n",
      "8\n"
     ]
    }
   ],
   "source": [
    "var1 = np.array([[9,8,7],[4,5,6]])\n",
    "print(var1)\n",
    "print(var1.ndim)\n",
    "print()\n",
    "print(var1[0,1])"
   ]
  },
  {
   "cell_type": "code",
   "execution_count": 9,
   "id": "a951d58e-69fd-494e-995c-e2d3197bec95",
   "metadata": {},
   "outputs": [
    {
     "name": "stdout",
     "output_type": "stream",
     "text": [
      "[[[1 2]\n",
      "  [6 7]]]\n",
      "3\n",
      "\n",
      "7\n"
     ]
    }
   ],
   "source": [
    "var2 = np.array([[[1,2],[6,7]]])\n",
    "\n",
    "print(var2)\n",
    "print(var2.ndim)\n",
    "print()\n",
    "print(var2[0,1,1])"
   ]
  },
  {
   "cell_type": "markdown",
   "id": "29c16d42-17fd-4f09-add9-817c66e2e174",
   "metadata": {},
   "source": [
    "#Slicing\n"
   ]
  },
  {
   "cell_type": "code",
   "execution_count": 16,
   "id": "cb646de4-3c50-49c2-96e0-a9218a660691",
   "metadata": {},
   "outputs": [
    {
     "name": "stdout",
     "output_type": "stream",
     "text": [
      "[9 8 7 6 5 4 3]\n",
      "\n",
      "2 to End : [8 7 6 5 4 3]\n",
      "Start to 5:  [9 8 7 6 5]\n",
      "stop : [9 7 5 3]\n"
     ]
    }
   ],
   "source": [
    "import numpy as np\n",
    "\n",
    "var = np.array([9,8,7,6,5,4,3])\n",
    "#               0,1,2,3,4,5,6\n",
    "\n",
    "print(var)\n",
    "print()\n",
    "print(\"2 to End :\",var[1: ])\n",
    "print(\"Start to 5: \",var[ :5])\n",
    "print(\"stop :\",var[::2])\n",
    "      "
   ]
  },
  {
   "cell_type": "code",
   "execution_count": 22,
   "id": "6df8caf0-556f-4a88-9efb-5b9f0e7b6b21",
   "metadata": {},
   "outputs": [
    {
     "name": "stdout",
     "output_type": "stream",
     "text": [
      "[[ 1  2  3  4  5]\n",
      " [ 9  8  7  6  5]\n",
      " [11 12 13 14 15]]\n",
      "\n",
      "8 to 5:  [8 7 6 5]\n"
     ]
    }
   ],
   "source": [
    "var1 = np.array([[1,2,3,4,5],[9,8,7,6,5],[11,12,13,14,15]])\n",
    "print(var1)\n",
    "print()\n",
    "print(\"8 to 5: \",var1[1,1: ])"
   ]
  },
  {
   "cell_type": "markdown",
   "id": "730f896b-869c-42e0-8750-2e3244502eb8",
   "metadata": {},
   "source": [
    "#Iterating Numpy Arrays"
   ]
  },
  {
   "cell_type": "code",
   "execution_count": 27,
   "id": "55f3ac6d-f987-4d1e-86bf-4860f549b0b2",
   "metadata": {},
   "outputs": [
    {
     "name": "stdout",
     "output_type": "stream",
     "text": [
      "9\n",
      "8\n",
      "7\n",
      "6\n",
      "5\n",
      "4\n",
      "3\n",
      "2\n",
      "1\n",
      "0\n"
     ]
    }
   ],
   "source": [
    "x = [9,8,7,6,5,4,3,2,1,0]\n",
    "for i in x:\n",
    "    print(i)"
   ]
  },
  {
   "cell_type": "code",
   "execution_count": 29,
   "id": "28108908-dc83-4884-af6e-2e8212ec97a6",
   "metadata": {},
   "outputs": [
    {
     "name": "stdout",
     "output_type": "stream",
     "text": [
      "[9 8 7 6 5 4]\n",
      "\n",
      "9\n",
      "8\n",
      "7\n",
      "6\n",
      "5\n",
      "4\n"
     ]
    }
   ],
   "source": [
    "var1 = np.array([9,8,7,6,5,4])\n",
    "\n",
    "print(var1)\n",
    "print()\n",
    "for i in var1:\n",
    "    print(i)\n"
   ]
  },
  {
   "cell_type": "code",
   "execution_count": 35,
   "id": "af1a0d23-ea8d-4619-b515-0e84909ec58a",
   "metadata": {},
   "outputs": [
    {
     "name": "stdout",
     "output_type": "stream",
     "text": [
      "[[1 2 3 4]\n",
      " [1 2 3 4]]\n",
      "\n",
      "[1 2 3 4]\n",
      "[1 2 3 4]\n",
      "\n",
      "1\n",
      "2\n",
      "3\n",
      "4\n",
      "1\n",
      "2\n",
      "3\n",
      "4\n"
     ]
    }
   ],
   "source": [
    "var2 = np.array([[1,2,3,4],[1,2,3,4]])\n",
    "print(var2)\n",
    "print()\n",
    "\n",
    "for j in var2:\n",
    "    print(j)\n",
    "\n",
    "print()\n",
    "\n",
    "for k in var2:\n",
    "    for l in k:\n",
    "        print(l)"
   ]
  },
  {
   "cell_type": "code",
   "execution_count": 39,
   "id": "d3f74654-7a1a-4619-892a-7399deb21783",
   "metadata": {},
   "outputs": [
    {
     "name": "stdout",
     "output_type": "stream",
     "text": [
      "[[[1 2 3 4]\n",
      "  [1 2 3 4]]]\n",
      "3\n",
      "\n",
      "1\n",
      "2\n",
      "3\n",
      "4\n",
      "1\n",
      "2\n",
      "3\n",
      "4\n"
     ]
    }
   ],
   "source": [
    "var3 = np.array([[[1,2,3,4],[1,2,3,4]]])\n",
    "print(var3)\n",
    "print(var3.ndim)\n",
    "print()\n",
    "\n",
    "for i in var3:\n",
    "    for j in i:\n",
    "        for k in j:\n",
    "            print(k)"
   ]
  },
  {
   "cell_type": "code",
   "execution_count": 43,
   "id": "e246d3b5-b86e-4806-a226-09a4be73ac0f",
   "metadata": {},
   "outputs": [
    {
     "name": "stdout",
     "output_type": "stream",
     "text": [
      "[[[1 2 3 4]\n",
      "  [1 2 3 4]]]\n",
      "3\n",
      "\n",
      "1\n",
      "2\n",
      "3\n",
      "4\n",
      "1\n",
      "2\n",
      "3\n",
      "4\n"
     ]
    }
   ],
   "source": [
    "var3 = np.array([[[1,2,3,4],[1,2,3,4]]])\n",
    "print(var3)\n",
    "print(var3.ndim)\n",
    "print()\n",
    "\n",
    "for i in np.nditer(var3):\n",
    "    print(i)"
   ]
  },
  {
   "cell_type": "code",
   "execution_count": 53,
   "id": "7f2f0f47-0c23-4b4a-9412-6f1b2fe0a302",
   "metadata": {},
   "outputs": [
    {
     "name": "stdout",
     "output_type": "stream",
     "text": [
      "[[[1 2 3 4]\n",
      "  [1 2 3 4]]]\n",
      "3\n",
      "\n",
      "b'1'\n",
      "b'2'\n",
      "b'3'\n",
      "b'4'\n",
      "b'1'\n",
      "b'2'\n",
      "b'3'\n",
      "b'4'\n"
     ]
    }
   ],
   "source": [
    "import numpy as np\n",
    "\n",
    "var3 = np.array([[[1, 2, 3, 4], [1, 2, 3, 4]]])\n",
    "print(var3)\n",
    "print(var3.ndim)\n",
    "print()\n",
    "\n",
    "for i in np.nditer(var3, flags=['buffered'], op_dtypes=['S']):\n",
    "    print(i)\n"
   ]
  },
  {
   "cell_type": "code",
   "execution_count": 55,
   "id": "81d3eeef-12c3-4445-9e8d-f582dd5a09ac",
   "metadata": {},
   "outputs": [
    {
     "name": "stdout",
     "output_type": "stream",
     "text": [
      "[[[1 2 3 4]\n",
      "  [1 2 3 4]]]\n",
      "3\n",
      "\n",
      "(0, 0, 0) 1\n",
      "(0, 0, 1) 2\n",
      "(0, 0, 2) 3\n",
      "(0, 0, 3) 4\n",
      "(0, 1, 0) 1\n",
      "(0, 1, 1) 2\n",
      "(0, 1, 2) 3\n",
      "(0, 1, 3) 4\n"
     ]
    }
   ],
   "source": [
    "import numpy as np\n",
    "\n",
    "var3 = np.array([[[1, 2, 3, 4], [1, 2, 3, 4]]])\n",
    "print(var3)\n",
    "print(var3.ndim)\n",
    "print()\n",
    "\n",
    "for i,d in np.ndenumerate(var3):\n",
    "    print(i,d)\n"
   ]
  },
  {
   "cell_type": "markdown",
   "id": "aeef42f7-a1cf-401b-929e-26dbdc1712d5",
   "metadata": {},
   "source": [
    "#COPY VS VIEW"
   ]
  },
  {
   "cell_type": "code",
   "execution_count": 67,
   "id": "12ea6473-935b-4b0d-a5ce-b52dc2ef21ed",
   "metadata": {},
   "outputs": [
    {
     "name": "stdout",
     "output_type": "stream",
     "text": [
      "var:  [ 1 40  3  4]\n",
      "copy:  [1 2 3 4]\n"
     ]
    }
   ],
   "source": [
    "import numpy as np\n",
    "\n",
    "var = np.array([1,2,3,4])\n",
    "co = var.copy()\n",
    "var[1]=40\n",
    "print(\"var: \", var)\n",
    "print(\"copy: \",co)"
   ]
  },
  {
   "cell_type": "code",
   "execution_count": 71,
   "id": "e9f1fcbb-3d60-4639-bb5f-d656b2e90027",
   "metadata": {},
   "outputs": [
    {
     "name": "stdout",
     "output_type": "stream",
     "text": [
      "var1:  [99 40  7  6  5]\n",
      "view:  [99 40  7  6  5]\n"
     ]
    }
   ],
   "source": [
    "var1 = np.array([99,8,7,6,5])\n",
    "vi = var1.view()\n",
    "var1[1]=40\n",
    "print(\"var1: \",var1)\n",
    "print(\"view: \",vi)"
   ]
  },
  {
   "cell_type": "code",
   "execution_count": 3,
   "id": "dc5a89ee-05cd-40f1-bf6e-44269c1d3ceb",
   "metadata": {},
   "outputs": [
    {
     "name": "stdout",
     "output_type": "stream",
     "text": [
      "[1 2 3 4 9 8 7 6]\n"
     ]
    }
   ],
   "source": [
    "import numpy as np\n",
    "\n",
    "var1 = np.array([1,2,3,4])\n",
    "var2 = np.array([9,8,7,6])\n",
    "ar = np.concatenate((var1,var2))\n",
    "print(ar)"
   ]
  },
  {
   "cell_type": "code",
   "execution_count": 9,
   "id": "72c7cc56-f640-420a-9709-c0b96981b651",
   "metadata": {},
   "outputs": [
    {
     "name": "stdout",
     "output_type": "stream",
     "text": [
      "[[1 2]\n",
      " [3 4]]\n",
      "\n",
      "[[9 8]\n",
      " [7 6]]\n",
      "\n",
      "[[1 2 9 8]\n",
      " [3 4 7 6]]\n",
      "[[1 2]\n",
      " [3 4]\n",
      " [9 8]\n",
      " [7 6]]\n"
     ]
    }
   ],
   "source": [
    "var = np.array([[1,2],[3,4]])\n",
    "var1 = np.array([[9,8],[7,6]])\n",
    "\n",
    "ar_new = np.concatenate((var,var1),axis=1)\n",
    "ar_new1 = np.concatenate((var,var1),axis=0)\n",
    "print(var)\n",
    "print()\n",
    "print(var1)\n",
    "print()\n",
    "print(ar_new)\n",
    "print(ar_new1)"
   ]
  },
  {
   "cell_type": "code",
   "execution_count": 17,
   "id": "4327d22d-c142-4c5e-9811-ae0b2829553b",
   "metadata": {},
   "outputs": [
    {
     "name": "stdout",
     "output_type": "stream",
     "text": [
      "[[1 9]\n",
      " [2 8]\n",
      " [3 7]\n",
      " [4 6]]\n",
      "\n",
      "[1 2 3 4 9 8 7 6]\n",
      "\n",
      "[[1 2 3 4]\n",
      " [9 8 7 6]]\n",
      "\n",
      "[[[1 9]\n",
      "  [2 8]\n",
      "  [3 7]\n",
      "  [4 6]]]\n"
     ]
    }
   ],
   "source": [
    "var_1 =np.array([1,2,3,4])\n",
    "var_2 =np.array([9,8,7,6])\n",
    "arr = np.stack((var_1,var_2),axis=1)\n",
    "arr1 = np.hstack((var_1,var_2))   #row\n",
    "arr2 = np.vstack((var_1,var_2))   #column\n",
    "arr3 = np.dstack((var_1,var_2))   #height\n",
    "\n",
    "print(arr)\n",
    "print()\n",
    "print(arr1)\n",
    "print()\n",
    "print(arr2)\n",
    "print()\n",
    "print(arr3)\n"
   ]
  },
  {
   "cell_type": "code",
   "execution_count": 19,
   "id": "942f388d-56c2-4552-90d0-ce55b93c5322",
   "metadata": {},
   "outputs": [
    {
     "name": "stdout",
     "output_type": "stream",
     "text": [
      "[1 2 3 4 5 6]\n",
      "\n",
      "[array([1, 2]), array([3, 4]), array([5, 6])]\n"
     ]
    }
   ],
   "source": [
    "import numpy as np\n",
    "\n",
    "var = np.array([1,2,3,4,5,6])\n",
    "\n",
    "print(var)\n",
    "\n",
    "ar = np.array_split(var,3)\n",
    "\n",
    "print()\n",
    "print(ar)"
   ]
  },
  {
   "cell_type": "code",
   "execution_count": 41,
   "id": "ca454b16-f7fe-4055-a65a-05028234f4ac",
   "metadata": {},
   "outputs": [
    {
     "name": "stdout",
     "output_type": "stream",
     "text": [
      "[1 2 3 4 5 6]\n",
      "1\n",
      "\n",
      "[array([1, 2]), array([3, 4]), array([5, 6])]\n",
      "1\n"
     ]
    }
   ],
   "source": [
    "var1 = np.array([[[1,2],[3,4],[5,6],[7,8]]])\n",
    "print(var)\n",
    "print(var.ndim)\n",
    "ar1= np.array_split(var,3)\n",
    "print()\n",
    "print(ar1)\n",
    "print(var[0])"
   ]
  },
  {
   "cell_type": "markdown",
   "id": "9925680d-12df-4e76-b872-10f0b6e933ab",
   "metadata": {},
   "source": [
    "#search"
   ]
  },
  {
   "cell_type": "code",
   "execution_count": 6,
   "id": "1d185132-34ee-4837-b496-ac1559aa2ee2",
   "metadata": {},
   "outputs": [
    {
     "name": "stdout",
     "output_type": "stream",
     "text": [
      "(array([1, 4, 6], dtype=int64),)\n",
      "\n",
      "(array([1, 3, 4, 6, 8], dtype=int64),)\n"
     ]
    }
   ],
   "source": [
    "import numpy as np\n",
    "var  = np.array([1,2,3,4,2,5,2,5,6,7])\n",
    "var1  = np.array([4,2,3,4,2,5,2,5,6,7])\n",
    "x = np.where(var==2)\n",
    "y = np.where((var%2)==0)\n",
    "\n",
    "print(x)\n",
    "print()\n",
    "print(y)"
   ]
  },
  {
   "cell_type": "code",
   "execution_count": 8,
   "id": "b95e6bf7-8618-4309-a7c6-3cce2d6a089c",
   "metadata": {},
   "outputs": [
    {
     "name": "stdout",
     "output_type": "stream",
     "text": [
      "(array([1, 4, 6], dtype=int64),)\n"
     ]
    }
   ],
   "source": [
    "var1 = np.array([1,2,3,4,6,7,8])\n",
    "#index           0,1,2,3,4,5,6\n",
    "\n",
    "x1 = np.searchsorted(var1,5)\n",
    "print(x)"
   ]
  },
  {
   "cell_type": "code",
   "execution_count": 12,
   "id": "2814f759-5686-4165-bb4b-320ff6ac8673",
   "metadata": {},
   "outputs": [
    {
     "name": "stdout",
     "output_type": "stream",
     "text": [
      "[4 4 4]\n"
     ]
    }
   ],
   "source": [
    "var2 = np.array([1,2,3,4,9,10])\n",
    "#index           0,1,2,3,4,5\n",
    "\n",
    "x2 = np.searchsorted(var2,[5,6,7],side =\"right\")\n",
    "print(x2)"
   ]
  },
  {
   "cell_type": "markdown",
   "id": "43191041-0cd5-443b-9748-7383484c5ca0",
   "metadata": {},
   "source": [
    "#sort"
   ]
  },
  {
   "cell_type": "code",
   "execution_count": 15,
   "id": "93894138-d38a-408c-900c-4457acbf1d67",
   "metadata": {},
   "outputs": [
    {
     "name": "stdout",
     "output_type": "stream",
     "text": [
      "[ 1  2  3  4  5  6  7 12 22 52]\n"
     ]
    }
   ],
   "source": [
    "var_1 = np.array([4,2,3,1,12,5,22,52,6,7])\n",
    "\n",
    "print(np.sort(var_1))\n"
   ]
  },
  {
   "cell_type": "code",
   "execution_count": 19,
   "id": "2b71ce77-1cab-4704-8f1d-6f55d0c1d779",
   "metadata": {},
   "outputs": [
    {
     "name": "stdout",
     "output_type": "stream",
     "text": [
      "[[ 2  3  4]\n",
      " [ 1  2  5]\n",
      " [ 6 22 52]]\n"
     ]
    }
   ],
   "source": [
    "var_2 = np.array([[4,2,3],[1,2,5],[22,52,6]])\n",
    "\n",
    "print(np.sort(var_2))"
   ]
  },
  {
   "cell_type": "code",
   "execution_count": 23,
   "id": "4a0d47ec-4c19-408a-9511-1da1fb4713f9",
   "metadata": {},
   "outputs": [
    {
     "name": "stdout",
     "output_type": "stream",
     "text": [
      "['a' 'd' 'f' 's']\n"
     ]
    }
   ],
   "source": [
    "var_3 = np.array([\"a\",\"s\",\"d\",\"f\"])\n",
    "print(np.sort(var_3))\n"
   ]
  },
  {
   "cell_type": "markdown",
   "id": "78dd9088-c08e-481b-a69b-85e625ad85d0",
   "metadata": {},
   "source": [
    "#filter"
   ]
  },
  {
   "cell_type": "code",
   "execution_count": 28,
   "id": "5da790ae-04d3-411d-8a64-728596df26c6",
   "metadata": {},
   "outputs": [
    {
     "name": "stdout",
     "output_type": "stream",
     "text": [
      "['a' 'f']\n",
      "<class 'numpy.ndarray'>\n"
     ]
    }
   ],
   "source": [
    "var_4 = np.array([\"a\",\"s\",\"d\",\"f\"])\n",
    "f = [True,False,False,True]\n",
    "new_a = var_4[f]\n",
    "print(new_a)\n",
    "print(type(new_a))"
   ]
  },
  {
   "cell_type": "markdown",
   "id": "2e458234-af42-49ed-9389-d8d371edc3e3",
   "metadata": {},
   "source": [
    "#shuffle"
   ]
  },
  {
   "cell_type": "code",
   "execution_count": 30,
   "id": "c041e4c1-35de-46e8-a077-856cc7c9fba2",
   "metadata": {},
   "outputs": [
    {
     "name": "stdout",
     "output_type": "stream",
     "text": [
      "[5 4 2 3 1]\n"
     ]
    }
   ],
   "source": [
    "var =np.array([1,2,3,4,5])\n",
    "np.random.shuffle(var)\n",
    "print(var)"
   ]
  },
  {
   "cell_type": "code",
   "execution_count": 38,
   "id": "23e69df1-2a7a-4831-9b3c-3a16830c7821",
   "metadata": {},
   "outputs": [
    {
     "name": "stdout",
     "output_type": "stream",
     "text": [
      "(array([1, 2, 3, 4, 5, 6, 7]), array([0, 1, 2, 3, 5, 7, 9], dtype=int64))\n"
     ]
    }
   ],
   "source": [
    "var1 =np.array([1,2,3,4,2,5,2,6,2,7])\n",
    "x = np.unique(var1,return_index = True)\n",
    "print(x)"
   ]
  },
  {
   "cell_type": "code",
   "execution_count": 42,
   "id": "e5158840-7f0b-4d2a-b74e-62d81bee1a6d",
   "metadata": {},
   "outputs": [
    {
     "name": "stdout",
     "output_type": "stream",
     "text": [
      "[[1 2 3]\n",
      " [4 5 6]]\n"
     ]
    }
   ],
   "source": [
    "var2 = np.array([1,2,3,4,5,6])\n",
    "y = np.resize(var2,(2,3))\n",
    "print(y)"
   ]
  },
  {
   "cell_type": "code",
   "execution_count": 44,
   "id": "666c6dc8-0127-45fe-a29a-2e8086184551",
   "metadata": {},
   "outputs": [
    {
     "name": "stdout",
     "output_type": "stream",
     "text": [
      "[[1 2]\n",
      " [3 4]\n",
      " [5 6]]\n"
     ]
    }
   ],
   "source": [
    "var3 = np.array([1,2,3,4,5,6])\n",
    "y = np.resize(var2,(3,2))\n",
    "print(y)"
   ]
  },
  {
   "cell_type": "code",
   "execution_count": 52,
   "id": "9df7a383-650d-4a67-8d1b-646d9e276d95",
   "metadata": {},
   "outputs": [
    {
     "name": "stdout",
     "output_type": "stream",
     "text": [
      "[[5 4]\n",
      " [2 3]\n",
      " [1 5]]\n",
      "\n",
      "[5 2 1 4 3 5]\n",
      "ravel=  [5 4 2 3 1 5]\n"
     ]
    }
   ],
   "source": [
    "var4 = np.array([1,2,3,4,5,6])\n",
    "v = np.resize(var,(3,2))\n",
    "print(v)\n",
    "print()\n",
    "print(v.flatten(order=\"f\"))\n",
    "print(\"ravel= \",np.ravel(v))\n"
   ]
  },
  {
   "cell_type": "markdown",
   "id": "c2d4589c-d501-41d7-aadb-95e1f9193df2",
   "metadata": {},
   "source": [
    "#insert"
   ]
  },
  {
   "cell_type": "code",
   "execution_count": 56,
   "id": "f25ec32d-2e60-4a40-a4e2-609ae3ab4e33",
   "metadata": {},
   "outputs": [
    {
     "name": "stdout",
     "output_type": "stream",
     "text": [
      "[1 2 3 4]\n",
      "[ 1  2 40  3  4 40]\n"
     ]
    }
   ],
   "source": [
    "var6 = np.array([1,2,3,4])\n",
    "print(var6)\n",
    "v = np.insert(var6,(2,4),40)\n",
    "print(v)"
   ]
  },
  {
   "cell_type": "code",
   "execution_count": 58,
   "id": "dade2311-1983-4924-ad2e-cc4ecd5f1f13",
   "metadata": {},
   "outputs": [
    {
     "name": "stdout",
     "output_type": "stream",
     "text": [
      "[ 1  2 22 23 24  3  4  2  5  2  6  2  7]\n"
     ]
    }
   ],
   "source": [
    "var7 = np.array([[1,2,3],[1,2,3]])\n",
    "v1 = np.insert(var1,2,[22,23,24],axis=0)\n",
    "print(v1)\n"
   ]
  },
  {
   "cell_type": "code",
   "execution_count": 61,
   "id": "5ab7bb71-a810-4a0c-a682-79a419c3a4ba",
   "metadata": {},
   "outputs": [
    {
     "name": "stdout",
     "output_type": "stream",
     "text": [
      "[1 2 3 4]\n",
      "[5 4 6 2 3 6 1]\n",
      "\n",
      "[5.  4.  2.  3.  1.  6.5]\n"
     ]
    }
   ],
   "source": [
    "var9 = np.array([1,2,3,4])\n",
    "print(var9)\n",
    "\n",
    "v = np.insert(var,(2,4),6.5)\n",
    "x = np.append(var,6.5)\n",
    "print(v)\n",
    "print()\n",
    "print(x)"
   ]
  },
  {
   "cell_type": "code",
   "execution_count": 67,
   "id": "72b2040a-6b56-4f89-b1e3-78211caaf176",
   "metadata": {},
   "outputs": [
    {
     "name": "stdout",
     "output_type": "stream",
     "text": [
      "[ 1  2  3  4  2  5  2  6  2  7 45 44 23]\n"
     ]
    }
   ],
   "source": [
    "var0 = np.array([[1,2,3],[1,2,3]])\n",
    "v2 = np.append(var1,[45,44,23],axis =0 )\n",
    "\n",
    "print(v2)"
   ]
  },
  {
   "cell_type": "code",
   "execution_count": 69,
   "id": "a75f40be-653f-4e3d-b5ef-9f712e6841f2",
   "metadata": {},
   "outputs": [
    {
     "name": "stdout",
     "output_type": "stream",
     "text": [
      "[1 2 3 4]\n",
      "[1 2 4]\n"
     ]
    }
   ],
   "source": [
    "var5 = np.array([1,2,3,4])\n",
    "print(var5)\n",
    "d = np.delete(var5,2)\n",
    "print(d)"
   ]
  },
  {
   "cell_type": "markdown",
   "id": "ffee7d0d-1200-4f87-a83a-e8582119b4f2",
   "metadata": {},
   "source": [
    "#matrix"
   ]
  },
  {
   "cell_type": "code",
   "execution_count": 79,
   "id": "3f3c0b91-f141-4f89-bc36-73b0be38d4fd",
   "metadata": {},
   "outputs": [
    {
     "name": "stdout",
     "output_type": "stream",
     "text": [
      "[[1 2 3]\n",
      " [1 2 3]]\n",
      "<class 'numpy.matrix'>\n",
      "[[1 2 3]\n",
      " [1 2 3]]\n",
      "<class 'numpy.ndarray'>\n"
     ]
    }
   ],
   "source": [
    "import numpy as np\n",
    "\n",
    "var = np.matrix([[1,2,3],[1,2,3]])\n",
    "print(var)\n",
    "print(type(var))\n",
    "\n",
    "\n",
    "var1 = np.array([[1,2,3],[1,2,3]])\n",
    "print(var1)\n",
    "print(type(var1))"
   ]
  },
  {
   "cell_type": "code",
   "execution_count": 81,
   "id": "30581824-7b16-4798-9ba6-715d214d07db",
   "metadata": {},
   "outputs": [
    {
     "name": "stdout",
     "output_type": "stream",
     "text": [
      "[[3 6]\n",
      " [3 6]]\n"
     ]
    }
   ],
   "source": [
    "import numpy as np\n",
    "var = np.matrix([[1,2],[1,2]])\n",
    "var2 = np.matrix([[1,2],[1,2]])\n",
    "print(var.dot(var2))"
   ]
  },
  {
   "cell_type": "code",
   "execution_count": 83,
   "id": "0c76e812-e7a3-4697-9e40-3544e7a04d97",
   "metadata": {},
   "outputs": [
    {
     "name": "stdout",
     "output_type": "stream",
     "text": [
      "[[1 2 3]\n",
      " [4 5 6]]\n",
      "\n",
      "[[1 4]\n",
      " [2 5]\n",
      " [3 6]]\n"
     ]
    }
   ],
   "source": [
    "var = np.matrix([[1,2,3],[4,5,6]])\n",
    "print(var)\n",
    "print()\n",
    "print(np.transpose(var))"
   ]
  },
  {
   "cell_type": "code",
   "execution_count": 87,
   "id": "1637d845-d111-458f-b739-688ace7f3306",
   "metadata": {},
   "outputs": [
    {
     "name": "stdout",
     "output_type": "stream",
     "text": [
      "[[1 2 3]\n",
      " [4 5 6]]\n",
      "\n",
      "[[1 4]\n",
      " [2 5]\n",
      " [3 6]]\n"
     ]
    }
   ],
   "source": [
    "var1 = np.matrix([[1,2,3],[4,5,6]])\n",
    "print(var1)\n",
    "print()\n",
    "print(np.swapaxes(var1,0,1))"
   ]
  },
  {
   "cell_type": "code",
   "execution_count": 91,
   "id": "b1d9b78b-0e81-4538-95bd-816c1dfa708e",
   "metadata": {},
   "outputs": [
    {
     "name": "stdout",
     "output_type": "stream",
     "text": [
      "[[2 2]\n",
      " [3 4]]\n",
      "\n",
      "[[2 3]\n",
      " [2 4]]\n"
     ]
    }
   ],
   "source": [
    "var2 = np.matrix([[2,2],[3,4]])\n",
    "print(var2)\n",
    "print()\n",
    "print(np.swapaxes(var2,0,1))"
   ]
  },
  {
   "cell_type": "code",
   "execution_count": 95,
   "id": "5c841003-19e6-4393-b34f-72ab374c033b",
   "metadata": {},
   "outputs": [
    {
     "name": "stdout",
     "output_type": "stream",
     "text": [
      "[[1 2]\n",
      " [3 4]]\n",
      "\n",
      "[[ 7 10]\n",
      " [15 22]]\n",
      "\n",
      "[[1 0]\n",
      " [0 1]]\n",
      "\n"
     ]
    }
   ],
   "source": [
    "var3 = np.matrix([[1,2],[3,4]])\n",
    "print(var3)\n",
    "print()\n",
    "print(np.linalg.matrix_power(var3,2))\n",
    "print()\n",
    "print(np.linalg.matrix_power(var3,0))\n",
    "print()\n",
    "      \n"
   ]
  },
  {
   "cell_type": "code",
   "execution_count": 99,
   "id": "603a07de-0916-4310-a5dd-5cf96f68b5f6",
   "metadata": {},
   "outputs": [
    {
     "name": "stdout",
     "output_type": "stream",
     "text": [
      "[[1 2]\n",
      " [3 4]]\n",
      "\n",
      "-2.0000000000000004\n"
     ]
    }
   ],
   "source": [
    "var4 = np.matrix([[1,2],[3,4]])\n",
    "print(var4)\n",
    "print()\n",
    "print(np.linalg.det(var4))"
   ]
  }
 ],
 "metadata": {
  "kernelspec": {
   "display_name": "Python [conda env:base] *",
   "language": "python",
   "name": "conda-base-py"
  },
  "language_info": {
   "codemirror_mode": {
    "name": "ipython",
    "version": 3
   },
   "file_extension": ".py",
   "mimetype": "text/x-python",
   "name": "python",
   "nbconvert_exporter": "python",
   "pygments_lexer": "ipython3",
   "version": "3.12.7"
  }
 },
 "nbformat": 4,
 "nbformat_minor": 5
}
