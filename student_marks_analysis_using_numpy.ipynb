{
 "cells": [
  {
   "cell_type": "code",
   "execution_count": 5,
   "id": "e266dd5a-9380-401f-8bb2-0480037db43f",
   "metadata": {},
   "outputs": [
    {
     "name": "stdout",
     "output_type": "stream",
     "text": [
      "marks of students:\n",
      " [[78 85 90]\n",
      " [92 88 76]\n",
      " [65 70 72]\n",
      " [80 95 89]\n",
      " [90 92 94]]\n",
      "\n",
      " Average marks of each student: [84.33333333 85.33333333 69.         88.         92.        ]\n",
      "Average marks of each subject: [81.  86.  84.2]\n",
      "Highest marks in each subject: [92 95 94]\n",
      "topper is student 5 with total marks: 276\n"
     ]
    }
   ],
   "source": [
    "import numpy as np\n",
    "\n",
    "\n",
    "marks = np.array([[78,85,90],[92,88,76],[65,70,72],[80,95,89],[90,92,94]])\n",
    "\n",
    "print(\"marks of students:\\n\", marks)\n",
    "\n",
    "student_avg = np.mean(marks, axis=1)\n",
    "print(\"\\n Average marks of each student:\", student_avg)\n",
    "\n",
    "subject_avg = np.mean(marks, axis=0)\n",
    "print(\"Average marks of each subject:\", subject_avg)\n",
    "\n",
    "highest_marks = np.max(marks, axis=0)\n",
    "print(\"Highest marks in each subject:\", highest_marks)\n",
    "\n",
    "total_marks = np.sum(marks, axis=1)\n",
    "topper_index = np.argmax(total_marks)\n",
    "\n",
    "\n",
    "print(\"topper is student\", topper_index+1, \"with total marks:\", total_marks[topper_index])\n",
    "\n",
    "\n",
    "\n"
   ]
  }
 ],
 "metadata": {
  "kernelspec": {
   "display_name": "Python [conda env:base] *",
   "language": "python",
   "name": "conda-base-py"
  },
  "language_info": {
   "codemirror_mode": {
    "name": "ipython",
    "version": 3
   },
   "file_extension": ".py",
   "mimetype": "text/x-python",
   "name": "python",
   "nbconvert_exporter": "python",
   "pygments_lexer": "ipython3",
   "version": "3.12.7"
  }
 },
 "nbformat": 4,
 "nbformat_minor": 5
}
